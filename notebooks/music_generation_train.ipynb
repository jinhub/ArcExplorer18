{
 "cells": [
  {
   "cell_type": "code",
   "execution_count": 1,
   "metadata": {},
   "outputs": [],
   "source": [
    "%reload_ext autoreload\n",
    "%autoreload 2\n",
    "%matplotlib inline\n",
    "\n",
    "# from fastai.model import fit\n",
    "from fastai.dataset import *\n",
    "\n",
    "import torchtext\n",
    "from torchtext import vocab, data\n",
    "from torchtext.datasets import language_modeling\n",
    "\n",
    "from fastai.rnn_reg import *\n",
    "from fastai.rnn_train import *\n",
    "from fastai.nlp import *\n",
    "from fastai.lm_rnn import *\n",
    "\n",
    "import dill as pickle"
   ]
  },
  {
   "cell_type": "markdown",
   "metadata": {
    "collapsed": true
   },
   "source": [
    "## Music modeling"
   ]
  },
  {
   "cell_type": "markdown",
   "metadata": {},
   "source": [
    "### Data"
   ]
  },
  {
   "cell_type": "markdown",
   "metadata": {},
   "source": [
    "The data comes from the [IraKorshunova repository](https://github.com/IraKorshunova/folk-rnn/tree/master/data) who has cleaned, parsed and tokenised the [thesession.org dataset](https://github.com/adactio/TheSession-data). We have used the version 3 of this dataset, [allabcwrepeats_parsed_wot](allabcwrepeats_parsed_wot), which has more than 46,000 transcriptions.\n",
    "\n",
    "The **music generation task**\n",
    "\n",
    "We tried to create a *music model*, being inspired by the *language model*, used by Jeremy Howard in [fast.ai course, lesson 4](https://github.com/fastai/fastai/blob/master/courses/dl1/lesson4-imdb.ipynb); where he created a model that can predict the next word in a sentence, in order to finally classify sentiments over specific texts.\n",
    "\n",
    "Because our model first needs to understand the structure of the music files, we decided to use instead of MIDI files, which are matrixes, of 4 columns, text files in [abc format](https://en.wikipedia.org/wiki/ABC_notation).\n",
    "\n",
    "[Ex:](http://abcnotation.com/)\n",
    "```X:1\n",
    "T:Speed the Plough\n",
    "M:4/4\n",
    "C:Trad.\n",
    "K:G\n",
    "|:GABc dedB|dedB dedB|c2ec B2dB|c2A2 A2BA|\n",
    "  GABc dedB|dedB dedB|c2ec B2dB|A2F2 G4:|\n",
    "|:g2gf gdBd|g2f2 e2d2|c2ec B2dB|c2A2 A2df|\n",
    "  g2gf g2Bd|g2f2 e2d2|c2ec B2dB|A2F2 G4:|\n",
    "  ```\n",
    "  \n",
    "![Speed the Plough](https://github.com/alessaww/fastai_ws/blob/master/SpeedThePlough.png?raw=true \"Logo Title Text 1\")\n",
    "\n",
    "There are no good pretrained music models available to download to be used in pytorch, so we need to create our own. \n",
    "\n",
    "We divided the data in 5% for validation and 95% for training."
   ]
  },
  {
   "cell_type": "code",
   "execution_count": 2,
   "metadata": {},
   "outputs": [],
   "source": [
    "PATH='data/musichack/thesession/'"
   ]
  },
  {
   "cell_type": "code",
   "execution_count": 3,
   "metadata": {},
   "outputs": [
    {
     "name": "stdout",
     "output_type": "stream",
     "text": [
      "allabcwrepeats_parsed_wot  \u001b[0m\u001b[01;34mmodels\u001b[0m/  \u001b[01;34mtmp\u001b[0m/  wot_train  wot_valid\r\n"
     ]
    }
   ],
   "source": [
    "%ls {PATH}"
   ]
  },
  {
   "cell_type": "markdown",
   "metadata": {},
   "source": [
    "Let's look at an example of the validation dataset"
   ]
  },
  {
   "cell_type": "code",
   "execution_count": 4,
   "metadata": {},
   "outputs": [
    {
     "data": {
      "text/plain": [
       "['M:9/8',\n",
       " 'K:maj',\n",
       " '=G =E =E =E 2 =D =E =D =C | =G =E =E =E =F =G =A =B =c | =G =E =E =E 2 =D =E =D =C | =A =D =D =G =E =C =D 2 =A | =G =E =E =E 2 =D =E =D =C | =G =E =E =E =F =G =A =B =c | =G =E =E =E 2 =D =E =D =C | =A =D =D =G =E =C =D 2 =D | =E =D =E =c 2 =A =B =A =G | =E =D =E =A /2 =B /2 =c =A =B 2 =D | =E =D =E =c 2 =A =B =A =G | =A =D =D =D =E =G =A 2 =D | =E =D =E =c 2 =A =B =A =G | =E =D =E =A /2 =B /2 =c =A =B 2 =B | =G =A =B =c =B =A =B =A =G | =A =D =D =D =E =G =A =B =c |']"
      ]
     },
     "execution_count": 4,
     "metadata": {},
     "output_type": "execute_result"
    }
   ],
   "source": [
    "review = !cat {PATH}wot_valid\n",
    "review[:3]"
   ]
  },
  {
   "cell_type": "markdown",
   "metadata": {},
   "source": [
    "Before we can analyze text, the text should be *tokenize* first. This refers in the language world, to the process of splitting a sentence into an array of words (or more generally, into an array of tokens).\n",
    "\n",
    "Sturm et all describe in this paper [\"Music transcription modelling and composition using deep learning\"](https://arxiv.org/pdf/1604.08723.pdf)   how he tokenize the music dataset. Here are some tokens used for this dataset:\n",
    "\n",
    "1. meter \"M:9/8\"\n",
    "1. key: \"K:maj\"\n",
    "1. duration \"/2\" and \"2\"\n",
    "1. measure: \":|\" and \"|1\"\n",
    "1. pitch: \"C\" and \"^c’\"\n",
    "1. grouping: \"(3\""
   ]
  },
  {
   "cell_type": "markdown",
   "metadata": {},
   "source": [
    "First, we create a torchtext field, which describes how to preprocess a piece of text. "
   ]
  },
  {
   "cell_type": "code",
   "execution_count": 5,
   "metadata": {},
   "outputs": [],
   "source": [
    "TEXT = data.Field(lower=False)"
   ]
  },
  {
   "cell_type": "markdown",
   "metadata": {},
   "source": [
    "[fastai](https://github.com/fastai/fastai) works closely with torchtext. We create a ModelData object for language modeling by taking advantage of `LanguageModelData`, passing it our torchtext field object, and the paths to our training, test, and validation sets. In this case, we don't have a separate test set, so we'll just use `VAL_PATH` for that too.\n",
    "\n",
    "As well as the usual `bs` (batch size) parameter, we also not have `bptt`; this define how many words are processing at a time in each row of the mini-batch. More importantly, it defines how many 'layers' we will backprop through. Making this number higher will increase time and memory requirements, but will improve the model's ability to handle long sentences."
   ]
  },
  {
   "cell_type": "code",
   "execution_count": 6,
   "metadata": {},
   "outputs": [],
   "source": [
    "bs,bptt = 64,70"
   ]
  },
  {
   "cell_type": "code",
   "execution_count": 7,
   "metadata": {},
   "outputs": [],
   "source": [
    "FILES = dict(train='wot_train', validation='wot_valid', test='wot_valid')\n",
    "md = LanguageModelData.from_text_files(f'{PATH}', TEXT, **FILES, bs=bs, bptt=bptt, min_freq=10)"
   ]
  },
  {
   "cell_type": "markdown",
   "metadata": {},
   "source": [
    "After building our `ModelData` object, it automatically fills the `TEXT` object with a very important attribute: `TEXT.vocab`. This is a *vocabulary*, which stores which words (or *tokens*) have been seen in the text, and how each word will be mapped to a unique integer id. We'll need to use this information again later, so we save it.\n",
    "\n",
    "*(Technical note: python's standard `Pickle` library can't handle this correctly, so at the top of this notebook we used the `dill` library instead and imported it as `pickle`)*."
   ]
  },
  {
   "cell_type": "code",
   "execution_count": 8,
   "metadata": {},
   "outputs": [],
   "source": [
    "pickle.dump(TEXT, open(f'{PATH}models/TEXT.pkl','wb'))"
   ]
  },
  {
   "cell_type": "markdown",
   "metadata": {},
   "source": [
    "Here are the: # batches; # unique tokens in the vocab; # dataset # tokens in the training set;"
   ]
  },
  {
   "cell_type": "code",
   "execution_count": 9,
   "metadata": {
    "scrolled": true
   },
   "outputs": [
    {
     "data": {
      "text/plain": [
       "(1668, 97, 1, 7481251)"
      ]
     },
     "execution_count": 9,
     "metadata": {},
     "output_type": "execute_result"
    }
   ],
   "source": [
    "len(md.trn_dl), md.nt, len(md.trn_ds), len(md.trn_ds[0].text)"
   ]
  },
  {
   "cell_type": "markdown",
   "metadata": {},
   "source": [
    "This is the start of the mapping from integer IDs to unique tokens."
   ]
  },
  {
   "cell_type": "code",
   "execution_count": 11,
   "metadata": {
    "scrolled": true
   },
   "outputs": [
    {
     "data": {
      "text/plain": [
       "['<unk>',\n",
       " '<pad>',\n",
       " '|',\n",
       " '2',\n",
       " '=c',\n",
       " '=F',\n",
       " '^c',\n",
       " '^G',\n",
       " '=G',\n",
       " '=f',\n",
       " '^A',\n",
       " '=A',\n",
       " '^d',\n",
       " '=E',\n",
       " '=d',\n",
       " '=C',\n",
       " '=e',\n",
       " '^D',\n",
       " '/2',\n",
       " '^C',\n",
       " '=D',\n",
       " '=B',\n",
       " '>',\n",
       " '^F',\n",
       " '3',\n",
       " '^g',\n",
       " '=g',\n",
       " '^f',\n",
       " ':|',\n",
       " '(3',\n",
       " '^a',\n",
       " '=a',\n",
       " '|:',\n",
       " \"=c'\",\n",
       " '^A,',\n",
       " '4',\n",
       " '=A,',\n",
       " '^G,',\n",
       " '=B,',\n",
       " '=G,',\n",
       " 'K:maj',\n",
       " '|1',\n",
       " '|2',\n",
       " \"^c'\",\n",
       " 'M:4/4',\n",
       " '<',\n",
       " '-',\n",
       " '=b',\n",
       " 'z',\n",
       " 'M:6/8',\n",
       " '6',\n",
       " ']',\n",
       " '[',\n",
       " '=F,',\n",
       " \"^d'\",\n",
       " \"=d'\",\n",
       " 'K:min',\n",
       " '3/2',\n",
       " 'K:dor',\n",
       " '=E,',\n",
       " '^F,',\n",
       " 'M:3/4',\n",
       " 'M:2/4',\n",
       " 'K:mix',\n",
       " \"=f'\",\n",
       " \"=e'\",\n",
       " '^D,',\n",
       " '=D,',\n",
       " 'M:9/8',\n",
       " '^C,',\n",
       " '=C,',\n",
       " '8',\n",
       " '/4',\n",
       " 'M:12/8',\n",
       " '/2>',\n",
       " '/2<',\n",
       " '2>',\n",
       " 'M:3/2',\n",
       " \"^f'\",\n",
       " '5',\n",
       " '3/4',\n",
       " '(4',\n",
       " \"^g'\",\n",
       " '(2',\n",
       " \"=g'\",\n",
       " '/3',\n",
       " \"^a'\",\n",
       " \"=a'\",\n",
       " '7',\n",
       " '2<',\n",
       " '12',\n",
       " '7/2',\n",
       " '9',\n",
       " '(5',\n",
       " '/8',\n",
       " '16',\n",
       " '5/2']"
      ]
     },
     "execution_count": 11,
     "metadata": {},
     "output_type": "execute_result"
    }
   ],
   "source": [
    "TEXT.vocab.itos[:100]"
   ]
  },
  {
   "cell_type": "code",
   "execution_count": 12,
   "metadata": {},
   "outputs": [
    {
     "data": {
      "text/plain": [
       "4"
      ]
     },
     "execution_count": 12,
     "metadata": {},
     "output_type": "execute_result"
    }
   ],
   "source": [
    "# 'stoi': 'string to int'\n",
    "TEXT.vocab.stoi['=c']"
   ]
  },
  {
   "cell_type": "markdown",
   "metadata": {},
   "source": [
    "Note that in a `LanguageModelData` object there is only one item in each dataset: all the words of the text joined together."
   ]
  },
  {
   "cell_type": "code",
   "execution_count": 13,
   "metadata": {},
   "outputs": [
    {
     "data": {
      "text/plain": [
       "['M:4/4', 'K:maj', '|:', '=g', '=f', '=e', '=c', '=d', '2', '=g', '=f', '|']"
      ]
     },
     "execution_count": 13,
     "metadata": {},
     "output_type": "execute_result"
    }
   ],
   "source": [
    "md.trn_ds[0].text[:12]"
   ]
  },
  {
   "cell_type": "markdown",
   "metadata": {},
   "source": [
    "torchtext will handle turning this words into integer IDs for us automatically."
   ]
  },
  {
   "cell_type": "code",
   "execution_count": 14,
   "metadata": {},
   "outputs": [
    {
     "data": {
      "text/plain": [
       "Variable containing:\n",
       "   44\n",
       "   40\n",
       "   32\n",
       "   26\n",
       "    9\n",
       "   16\n",
       "    4\n",
       "   14\n",
       "    3\n",
       "   26\n",
       "    9\n",
       "    2\n",
       "[torch.cuda.LongTensor of size 12x1 (GPU 0)]"
      ]
     },
     "execution_count": 14,
     "metadata": {},
     "output_type": "execute_result"
    }
   ],
   "source": [
    "TEXT.numericalize([md.trn_ds[0].text[:12]])"
   ]
  },
  {
   "cell_type": "markdown",
   "metadata": {},
   "source": [
    "Our `LanguageModelData` object will create batches with 64 columns (that's our batch size), and varying sequence lengths of around 80 tokens (that's our `bptt` parameter - *backprop through time*).\n",
    "\n",
    "Each batch also contains the exact same data as labels, but one word later in the text - since we're trying to always predict the next word. The labels are flattened into a 1d array."
   ]
  },
  {
   "cell_type": "code",
   "execution_count": 15,
   "metadata": {},
   "outputs": [
    {
     "data": {
      "text/plain": [
       "(Variable containing:\n",
       "    44    39    14  ...     17     7     7\n",
       "    40    36    16  ...     18     6     8\n",
       "    32    15     9  ...      5     4    10\n",
       "        ...          ⋱          ...       \n",
       "    30    20    14  ...      6    12    69\n",
       "    31    13     4  ...     22     9    66\n",
       "     9     8     3  ...     10    27    53\n",
       " [torch.cuda.LongTensor of size 77x64 (GPU 0)], Variable containing:\n",
       "  40\n",
       "  36\n",
       "  16\n",
       "  ⋮ \n",
       "   7\n",
       "   2\n",
       "   2\n",
       " [torch.cuda.LongTensor of size 4928 (GPU 0)])"
      ]
     },
     "execution_count": 15,
     "metadata": {},
     "output_type": "execute_result"
    }
   ],
   "source": [
    "next(iter(md.trn_dl))"
   ]
  },
  {
   "cell_type": "markdown",
   "metadata": {},
   "source": [
    "### Train"
   ]
  },
  {
   "cell_type": "code",
   "execution_count": 16,
   "metadata": {},
   "outputs": [],
   "source": [
    "em_sz = 200  # size of each embedding vector\n",
    "nh = 500     # number of hidden activations per layer\n",
    "nl = 3       # number of layers"
   ]
  },
  {
   "cell_type": "markdown",
   "metadata": {},
   "source": [
    "Researchers have found that large amounts of *momentum* don't work well with these kinds of *RNN* models, so we create a version of the *Adam* optimizer with less momentum than it's default of `0.9`."
   ]
  },
  {
   "cell_type": "code",
   "execution_count": 17,
   "metadata": {},
   "outputs": [],
   "source": [
    "opt_fn = partial(optim.Adam, betas=(0.7, 0.99))"
   ]
  },
  {
   "cell_type": "markdown",
   "metadata": {},
   "source": [
    "fastai uses a variant of the state of the art [AWD LSTM Language Model](https://arxiv.org/abs/1708.02182) developed by Stephen Merity. A key feature of this model is that it provides excellent regularization through [Dropout](https://en.wikipedia.org/wiki/Convolutional_neural_network#Dropout). There is no simple way known (yet!) to find the best values of the dropout parameters below - you just have to experiment...\n",
    "\n",
    "However, the other parameters (`alpha`, `beta`, and `clip`) shouldn't generally need tuning."
   ]
  },
  {
   "cell_type": "code",
   "execution_count": 19,
   "metadata": {},
   "outputs": [],
   "source": [
    "learner = md.get_model(opt_fn, em_sz, nh, nl,\n",
    "    dropout=0.05, dropouth=0.1, dropouti=0.05, dropoute=0.02, wdrop=0.2)\n",
    "\n",
    "learner.reg_fn = partial(seq2seq_reg, alpha=2, beta=1)\n",
    "learner.clip=0.3"
   ]
  },
  {
   "cell_type": "code",
   "execution_count": 20,
   "metadata": {},
   "outputs": [
    {
     "data": {
      "application/vnd.jupyter.widget-view+json": {
       "model_id": "3ce11a65c813459791fa18a25b21bee9",
       "version_major": 2,
       "version_minor": 0
      },
      "text/plain": [
       "HBox(children=(IntProgress(value=0, description='Epoch', max=1), HTML(value='')))"
      ]
     },
     "metadata": {},
     "output_type": "display_data"
    },
    {
     "name": "stdout",
     "output_type": "stream",
     "text": [
      "[0.      1.44371 1.47092]                                     \n",
      "\n",
      "CPU times: user 1min 14s, sys: 10.7 s, total: 1min 24s\n",
      "Wall time: 1min 26s\n"
     ]
    }
   ],
   "source": [
    "%%time\n",
    "learner.fit(3e-3, 1, wds=1e-6)"
   ]
  },
  {
   "cell_type": "code",
   "execution_count": 21,
   "metadata": {},
   "outputs": [],
   "source": [
    "learner.save_encoder('adam2_enc_l0')"
   ]
  },
  {
   "cell_type": "code",
   "execution_count": 22,
   "metadata": {},
   "outputs": [
    {
     "data": {
      "application/vnd.jupyter.widget-view+json": {
       "model_id": "aef1eb00183145abbb0a2d176e1954d7",
       "version_major": 2,
       "version_minor": 0
      },
      "text/plain": [
       "HBox(children=(IntProgress(value=0, description='Epoch', max=7), HTML(value='')))"
      ]
     },
     "metadata": {},
     "output_type": "display_data"
    },
    {
     "name": "stdout",
     "output_type": "stream",
     "text": [
      "[0.      1.33481 1.32608]                                     \n",
      "[1.      1.29181 1.28717]                                     \n",
      "[2.      1.2362  1.23456]                                     \n",
      "[3.      1.25848 1.26215]                                     \n",
      "[4.      1.19748 1.20987]                                     \n",
      "[5.      1.15654 1.16454]                                     \n",
      "[6.      1.12861 1.15472]                                     \n",
      "\n",
      "CPU times: user 8min 47s, sys: 1min 14s, total: 10min 2s\n",
      "Wall time: 10min 3s\n"
     ]
    }
   ],
   "source": [
    "%%time\n",
    "learner.fit(3e-3, 3, wds=1e-6, cycle_len=1, cycle_mult=2)"
   ]
  },
  {
   "cell_type": "code",
   "execution_count": 23,
   "metadata": {},
   "outputs": [],
   "source": [
    "learner.save_encoder('adam2_enc')"
   ]
  },
  {
   "cell_type": "code",
   "execution_count": null,
   "metadata": {
    "scrolled": true
   },
   "outputs": [
    {
     "data": {
      "application/vnd.jupyter.widget-view+json": {
       "model_id": "607e7f4ca5274c92becce0a070e3db98",
       "version_major": 2,
       "version_minor": 0
      },
      "text/plain": [
       "HBox(children=(IntProgress(value=0, description='Epoch', max=50), HTML(value='')))"
      ]
     },
     "metadata": {},
     "output_type": "display_data"
    },
    {
     "name": "stdout",
     "output_type": "stream",
     "text": [
      "[0.      1.19797 1.21638]                                     \n",
      "[1.      1.16598 1.17822]                                     \n",
      "[2.      1.11193 1.14258]                                     \n",
      "[3.      1.09525 1.11355]                                     \n",
      "[4.      1.07502 1.10745]                                     \n",
      "[5.      1.15748 1.17669]                                     \n",
      "[6.      1.11343 1.14069]                                     \n",
      "[7.      1.08742 1.10299]                                     \n",
      "[8.      1.05936 1.07688]                                     \n",
      "[9.      1.04496 1.07082]                                     \n",
      "[10.       1.12561  1.13999]                                  \n",
      "[11.       1.09792  1.10975]                                  \n",
      "[12.       1.06397  1.07107]                                  \n",
      "[13.       1.02753  1.0458 ]                                  \n",
      "[14.       1.01059  1.04052]                                   \n",
      "[15.       1.11865  1.11324]                                  \n",
      "[16.       1.08067  1.08481]                                  \n",
      "[17.       1.03649  1.0484 ]                                  \n",
      "[18.       1.00571  1.02549]                                   \n",
      "[19.       0.99485  1.01715]                                   \n",
      "[20.       1.08906  1.09092]                                  \n",
      "[21.       1.0634   1.06755]                                  \n",
      "[22.       1.03435  1.03105]                                  \n",
      "[23.       1.00079  1.00514]                                   \n",
      "[24.       0.97121  0.99867]                                   \n",
      "[25.       1.07038  1.08268]                                  \n",
      "[26.       1.04221  1.05357]                                  \n",
      "[27.       1.01471  1.01768]                                   \n",
      "[28.       0.9848   0.99095]                                   \n",
      "[29.       0.96755  0.9856 ]                                   \n",
      "[30.       1.04167  1.06627]                                  \n",
      "[31.       1.04417  1.04219]                                  \n",
      "[32.       0.99283  1.00648]                                   \n",
      "[33.       0.97009  0.98014]                                   \n",
      "[34.       0.96713  0.97464]                                   \n",
      "[35.       1.05716  1.05441]                                  \n",
      "[36.       1.01749  1.03071]                                  \n",
      "[37.       1.00051  0.99424]                                   \n",
      "[38.       0.97311  0.96842]                                   \n",
      "[39.       0.93603  0.9621 ]                                   \n",
      "[40.       1.04132  1.04392]                                  \n",
      "[41.       1.03299  1.01974]                                   \n",
      "  6%|▌         | 101/1668 [00:05<01:23, 18.68it/s, loss=0.993]"
     ]
    }
   ],
   "source": [
    "learner.fit(3e-3, 10, wds=1e-6, cycle_len=5, cycle_save_name='adam3_10')"
   ]
  },
  {
   "cell_type": "code",
   "execution_count": 23,
   "metadata": {},
   "outputs": [],
   "source": [
    "learner.save_encoder('adam3_10_enc')"
   ]
  },
  {
   "cell_type": "code",
   "execution_count": null,
   "metadata": {
    "scrolled": false
   },
   "outputs": [
    {
     "data": {
      "application/vnd.jupyter.widget-view+json": {
       "model_id": "1af787bf59ef4fba89350183b31c3306",
       "version_major": 2,
       "version_minor": 0
      },
      "text/html": [
       "<p>Failed to display Jupyter Widget of type <code>HBox</code>.</p>\n",
       "<p>\n",
       "  If you're reading this message in the Jupyter Notebook or JupyterLab Notebook, it may mean\n",
       "  that the widgets JavaScript is still loading. If this message persists, it\n",
       "  likely means that the widgets JavaScript library is either not installed or\n",
       "  not enabled. See the <a href=\"https://ipywidgets.readthedocs.io/en/stable/user_install.html\">Jupyter\n",
       "  Widgets Documentation</a> for setup instructions.\n",
       "</p>\n",
       "<p>\n",
       "  If you're reading this message in another frontend (for example, a static\n",
       "  rendering on GitHub or <a href=\"https://nbviewer.jupyter.org/\">NBViewer</a>),\n",
       "  it may mean that your frontend doesn't currently support widgets.\n",
       "</p>\n"
      ],
      "text/plain": [
       "HBox(children=(IntProgress(value=0, description='Epoch', max=80), HTML(value='')))"
      ]
     },
     "metadata": {},
     "output_type": "display_data"
    },
    {
     "name": "stdout",
     "output_type": "stream",
     "text": [
      "epoch      trn_loss   val_loss                                 \n",
      "    0      1.006562   1.043507  \n",
      "    1      1.000142   1.037049                                 \n",
      "    2      0.996996   1.027742                                 \n",
      "    3      0.981878   1.012572                                 \n",
      "    4      0.968718   0.995868                                 \n",
      "    5      0.949195   0.981612                                 \n",
      "    6      0.927161   0.9698                                   \n",
      "    7      0.903767   0.961762                                 \n",
      "    8      0.902105   0.955928                                 \n",
      "    9      0.92872    0.954165                                 \n",
      "    10     1.023135   1.030608                                 \n",
      "    11     1.014453   1.026594                                 \n",
      "    12     0.998357   1.014735                                 \n",
      "    13     0.974121   1.00059                                  \n",
      "    14     0.966552   0.984266                                 \n",
      "    15     0.939785   0.970165                                 \n",
      "    16     0.913893   0.95753                                  \n",
      "    17     0.896083   0.946503                                 \n",
      "    18     0.89187    0.94174                                  \n",
      "    19     0.900948   0.939662                                 \n",
      "    20     1.011847   1.0198                                   \n",
      "    21     0.989433   1.014476                                 \n",
      "    22     0.985303   1.002371                                 \n",
      "    23     0.957398   0.98939                                  \n",
      "    24     0.935786   0.976263                                 \n",
      "    25     0.943602   0.958156                                 \n",
      "    26     0.892136   0.944237                                 \n",
      "    27     0.889248   0.931687                                 \n",
      "    28     0.89224    0.92739                                  \n",
      "    29     0.882431   0.927171                                 \n",
      "    30     0.987915   1.00797                                  \n",
      "    31     1.003901   1.004407                                 \n",
      "    32     0.985246   0.993193                                 \n",
      "    33     0.958254   0.981539                                 \n",
      "    34     0.94807    0.963312                                 \n",
      "    35     0.92555    0.946161                                 \n",
      "    36     0.907406   0.931799                                 \n",
      "    37     0.887125   0.925636                                 \n",
      "    38     0.885702   0.920638                                 \n",
      "    39     0.881806   0.916393                                 \n",
      "    40     0.993138   0.999354                                 \n",
      "    41     0.964461   0.99549                                  \n",
      "    42     0.970219   0.979818                                 \n",
      "    43     0.944594   0.967483                                 \n",
      "    44     0.93207    0.951873                                 \n",
      "    45     0.915389   0.939059                                 \n",
      "    46     0.903416   0.920928                                 \n",
      "    47     0.87118    0.910201                                 \n",
      "    48     0.865455   0.90605                                  \n",
      "    49     0.878264   0.903899                                 \n",
      "    50     0.977648   0.99165                                  \n",
      "    51     0.972646   0.987118                                 \n",
      "    52     0.95688    0.976128                                 \n",
      "    53     0.938702   0.960775                                 \n",
      "    54     0.930804   0.941496                                 \n",
      "    55     0.895266   0.928058                                 \n",
      "    56     0.902193   0.910913                                 \n",
      "    57     0.852691   0.902527                                 \n",
      "    58     0.870559   0.895882                                 \n",
      "    59     0.852072   0.894523                                 \n",
      "    60     0.971053   0.985892                                 \n",
      "    61     0.975288   0.980382                                 \n",
      "    62     0.944891   0.970283                                 \n",
      "    63     0.953744   0.955654                                 \n",
      "    64     0.916447   0.937807                                 \n",
      "    65     0.906813   0.920993                                 \n",
      "    66     0.868731   0.906062                                 \n",
      "    67     0.858415   0.894852                                 \n",
      "    68     0.844099   0.888223                                 \n",
      "    69     0.854508   0.890044                                 \n",
      "    70     0.968992   0.981104                                 \n",
      "    71     0.956445   0.97213                                  \n",
      "    72     0.959195   0.960118                                 \n",
      "    73     0.929526   0.948718                                 \n",
      "    74     0.910905   0.930257                                 \n",
      "    75     0.885452   0.916552                                 \n",
      "    76     0.866505   0.900844                                 \n",
      "    77     0.847793   0.889465                                 \n",
      "    78     0.851904   0.883882                                 \n",
      "    79     0.829723   0.882001                                 \n",
      "\n"
     ]
    },
    {
     "data": {
      "text/plain": [
       "[0.88200098]"
      ]
     },
     "execution_count": 24,
     "metadata": {},
     "output_type": "execute_result"
    }
   ],
   "source": [
    "learner.fit(3e-3, 8, wds=1e-6, cycle_len=10, cycle_save_name='adam3_5')"
   ]
  },
  {
   "cell_type": "code",
   "execution_count": null,
   "metadata": {},
   "outputs": [
    {
     "data": {
      "application/vnd.jupyter.widget-view+json": {
       "model_id": "dbe0506f85724061b6223c441e8ff235",
       "version_major": 2,
       "version_minor": 0
      },
      "text/html": [
       "<p>Failed to display Jupyter Widget of type <code>HBox</code>.</p>\n",
       "<p>\n",
       "  If you're reading this message in the Jupyter Notebook or JupyterLab Notebook, it may mean\n",
       "  that the widgets JavaScript is still loading. If this message persists, it\n",
       "  likely means that the widgets JavaScript library is either not installed or\n",
       "  not enabled. See the <a href=\"https://ipywidgets.readthedocs.io/en/stable/user_install.html\">Jupyter\n",
       "  Widgets Documentation</a> for setup instructions.\n",
       "</p>\n",
       "<p>\n",
       "  If you're reading this message in another frontend (for example, a static\n",
       "  rendering on GitHub or <a href=\"https://nbviewer.jupyter.org/\">NBViewer</a>),\n",
       "  it may mean that your frontend doesn't currently support widgets.\n",
       "</p>\n"
      ],
      "text/plain": [
       "HBox(children=(IntProgress(value=0, description='Epoch', max=20), HTML(value='')))"
      ]
     },
     "metadata": {},
     "output_type": "display_data"
    },
    {
     "name": "stdout",
     "output_type": "stream",
     "text": [
      "epoch      trn_loss   val_loss                                 \n",
      "    0      0.829702   0.881273  \n",
      "    1      0.951012   0.970356                                 \n",
      "    2      0.967439   0.971461                                 \n",
      "    3      0.947978   0.969625                                 \n",
      "    4      0.967008   0.96368                                  \n",
      "    5      0.930247   0.955776                                 \n",
      "    6      0.915778   0.954348                                 \n",
      "    7      0.931548   0.939423                                 \n",
      "    8      0.916852   0.930579                                 \n",
      "    9      0.90054    0.918163                                 \n",
      "    10     0.87822    0.910958                                 \n",
      "    11     0.89871    0.899078                                 \n",
      "    12     0.861625   0.891122                                 \n",
      "    13     0.857402   0.883632                                 \n",
      "    14     0.866496   0.875259                                 \n",
      "    15     0.834881   0.870143                                 \n",
      "    16     0.822038   0.87043                                  \n",
      "    17     0.844584   0.864208                                 \n",
      " 89%|████████▊ | 1480/1668 [02:56<00:22,  8.41it/s, loss=0.805]"
     ]
    }
   ],
   "source": [
    "learner.fit(3e-3, 1, wds=1e-6, cycle_len=20, cycle_save_name='adam3_20')"
   ]
  },
  {
   "cell_type": "code",
   "execution_count": null,
   "metadata": {},
   "outputs": [],
   "source": [
    "learner.save_encoder('adam3_20_enc')"
   ]
  },
  {
   "cell_type": "code",
   "execution_count": null,
   "metadata": {},
   "outputs": [],
   "source": [
    "learner.save('adam3_20')"
   ]
  },
  {
   "cell_type": "markdown",
   "metadata": {},
   "source": [
    "Language modeling accuracy is generally measured using the metric *perplexity*, which is simply `exp()` of the loss function we used."
   ]
  },
  {
   "cell_type": "code",
   "execution_count": 42,
   "metadata": {},
   "outputs": [
    {
     "data": {
      "text/plain": [
       "64.3926824434624"
      ]
     },
     "execution_count": 42,
     "metadata": {},
     "output_type": "execute_result"
    }
   ],
   "source": [
    "math.exp(4.165)"
   ]
  },
  {
   "cell_type": "code",
   "execution_count": 43,
   "metadata": {},
   "outputs": [],
   "source": [
    "pickle.dump(TEXT, open(f'{PATH}models/TEXT.pkl','wb'))"
   ]
  },
  {
   "cell_type": "markdown",
   "metadata": {},
   "source": [
    "### Test"
   ]
  },
  {
   "cell_type": "markdown",
   "metadata": {},
   "source": [
    "We can play around with our language model a bit to check it seems to be working OK. First, let's create a short bit of text to 'prime' a set of predictions. We'll use our torchtext field to numericalize it so we can feed it to our language model."
   ]
  },
  {
   "cell_type": "code",
   "execution_count": 13,
   "metadata": {},
   "outputs": [],
   "source": [
    "def proc_str(s): return TEXT.preprocess(TEXT.tokenize(s))\n",
    "def num_str(s): return TEXT.numericalize([proc_str(s)])"
   ]
  },
  {
   "cell_type": "code",
   "execution_count": 14,
   "metadata": {},
   "outputs": [],
   "source": [
    "m=learner.model"
   ]
  },
  {
   "cell_type": "markdown",
   "metadata": {},
   "source": [
    " Let's see if our model can generate a bit more text all by itself!"
   ]
  },
  {
   "cell_type": "code",
   "execution_count": 19,
   "metadata": {},
   "outputs": [],
   "source": [
    "def sample_model(m, s, l=250):\n",
    "    t = num_str(s)\n",
    "    m[0].bs=1\n",
    "    m.eval()\n",
    "    m.reset()\n",
    "    res,*_ = m(t)\n",
    "    print('...', end='')\n",
    "\n",
    "    for i in range(l):\n",
    "        n=res[-1].topk(2)[1]\n",
    "        n = n[1] if n.data[0]==0 else n[0]\n",
    "        word = TEXT.vocab.itos[n.data[0]]\n",
    "        print(word, end=' ')\n",
    "        if word=='<eos>': break\n",
    "        res,*_ = m(n[0].unsqueeze(0))\n",
    "\n",
    "    m[0].bs=bs"
   ]
  },
  {
   "cell_type": "code",
   "execution_count": 20,
   "metadata": {},
   "outputs": [
    {
     "name": "stdout",
     "output_type": "stream",
     "text": [
      "...k:maj |: (3 =g, =a, =b, | =c 2 =e > =c =g > =c =e > =c | =d > =c =b, > =c =d > =e =f > =d | =c 2 =e > =c =g > =c =e > =c | =d > =c =b, > =a, =g, 2 (3 =g, =a, =b, | =c 2 =e > =c =g > =c =e > =c | =d > =c =b, > =c =d > =e =f > =d | =g > =c =b > =a =g > =f =e > =d | =c 2 =c 2 =c 2 :| |: (3 =g =a =b | =c 2 =e > =c =g > =c =e > =c | =d > =c =b > =a =g > =f =e > =d | =c 2 =e > =c =g > =c =e > =c | =d > =c =b > =a =g > =f =e > =d | =c 2 =e > =c =g > =c =e > =c | =d > =c =b > =a =g > =f =e > =d | =c > =e =g > =c =a > =f =d > =b, | =c 2 =e 2 =c 2 :| m:4/4 k:maj |: (3 =g, =a, =b, | =c 2 =e > =c =g > =c =e > =c | =d > =c =b, > =c =d > =e =f > =d | =c 2 =e > =c =g > =c =e > =c | =d > "
     ]
    }
   ],
   "source": [
    "sample_model(m,\"M:4/4\")"
   ]
  },
  {
   "cell_type": "code",
   "execution_count": null,
   "metadata": {
    "collapsed": true
   },
   "outputs": [],
   "source": []
  }
 ],
 "metadata": {
  "kernelspec": {
   "display_name": "Python 3",
   "language": "python",
   "name": "python3"
  },
  "language_info": {
   "codemirror_mode": {
    "name": "ipython",
    "version": 3
   },
   "file_extension": ".py",
   "mimetype": "text/x-python",
   "name": "python",
   "nbconvert_exporter": "python",
   "pygments_lexer": "ipython3",
   "version": "3.6.5"
  },
  "toc": {
   "colors": {
    "hover_highlight": "#DAA520",
    "navigate_num": "#000000",
    "navigate_text": "#333333",
    "running_highlight": "#FF0000",
    "selected_highlight": "#FFD700",
    "sidebar_border": "#EEEEEE",
    "wrapper_background": "#FFFFFF"
   },
   "moveMenuLeft": true,
   "nav_menu": {
    "height": "123px",
    "width": "251px"
   },
   "navigate_menu": true,
   "number_sections": true,
   "sideBar": true,
   "threshold": 4,
   "toc_cell": false,
   "toc_section_display": "block",
   "toc_window_display": false,
   "widenNotebook": false
  }
 },
 "nbformat": 4,
 "nbformat_minor": 2
}
